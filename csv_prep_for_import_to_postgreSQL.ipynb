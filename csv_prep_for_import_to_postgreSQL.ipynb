{
 "cells": [
  {
   "attachments": {},
   "cell_type": "markdown",
   "id": "bd92dbab-181b-48ce-b6de-0f12d27e543a",
   "metadata": {},
   "source": [
    "![](https://www.python.org/static/img/python-logo.png)\n",
    "<!-- <img src=\"https://www.python.org/static/img/python-logo.png\" style=\"float: left; margin: 20px; height: 55px\"><br> -->\n",
    "## Python code to read the first few lines of a large CSV file\n",
    "---\n",
    "<!-- <span style=\"color:lightblue\"> -->\n",
    "<font color=lightblue>\n",
    "<i>\n",
    "The overall goal of the project is to import a potentially large CSV file into a PostgreSQL table. Here are the steps we'll take:\n",
    "    \n",
    "1. Create a truncated version of the CSV.\n",
    "2. Open the truncated version in Excel.\n",
    "3. Determine the data types for each colummn.\n",
    "4. Create a table in pgAdmin with the appropriate data types.\n",
    "5. Import the original CSV into pgAdmin.\n",
    "\n",
    "<br><br>\n",
    "We could use Pandas to read and write the first few lines of a large CSV file.\n",
    "\n",
    "</i>\n",
    "</font>\n",
    "<!-- </span> -->"
   ]
  },
  {
   "cell_type": "markdown",
   "id": "79524aa7-9322-4954-b787-7bf77b2b6b9f",
   "metadata": {},
   "source": [
    "_The next code is for the location and name of the CSV files. These will need to be changed to the location of your own CSV file._\n",
    "\n",
    "- `s_datapath` _is the path to the files. *Do not* end this line with a backslash ('\\\\')_.\n",
    "- ```s_csvsource``` _is the name of the data source file_.\n",
    "- ```s_csvtarget``` _is the name you will give to the truncated version of s_csvsource_."
   ]
  },
  {
   "cell_type": "code",
   "execution_count": null,
   "id": "83c9b961-8bbb-4888-9def-419d8a78cad2",
   "metadata": {},
   "outputs": [],
   "source": [
    "s_datapath = r'C:\\Users\\kevin\\OneDrive\\Education\\Data Analytics\\_Project – Gender Pay Gap\\Data'\n",
    "s_csvsource = r'UK Gender Pay Gap Data - 2022 to 2023.csv'\n",
    "s_csvtarget = r'UK Gender Pay Gap Data - 2022 to 2023.truncated.csv'"
   ]
  },
  {
   "attachments": {},
   "cell_type": "markdown",
   "id": "e6126911-c08d-449f-bd7f-f56a976e5e9f",
   "metadata": {},
   "source": [
    "_If we were to use `pandas` to read the CSV into a pandas DataFrame, then export a certain number of rows to another CSV file, here's what the code might look like:_\n",
    "```python\n",
    "import pandas as pd\n",
    "\n",
    "df_pay_gap = pd.read_csv( s_datapath + '\\\\' + s_csvsource )\n",
    "\n",
    "# Optional command to inspect the data.\n",
    "df_pay_gap[0:3]\n",
    "\n",
    "# Another optional command to inspect a few columns of the data.\n",
    "df_pay_gap[['EmployerName', 'EmployerId', 'PostCode']][0:3].T\n",
    "\n",
    "# Write the first 50 rows to a new CSV file.\n",
    "df_pay_gap[0:50].to_csv( s_datapath + '\\\\' + s_csvtarget, index=False )\n",
    "```\n"
   ]
  },
  {
   "attachments": {},
   "cell_type": "markdown",
   "id": "b21ab994-7c11-4c0b-899b-31b25ccfcee8",
   "metadata": {},
   "source": [
    "\n",
    "_There are a few problems with that approach. Most importantly, the Pandas' `read_csv()` command will take forever with a large file and may even crash our compuater. In addition, that approach assumes that columns containing digits are numberic values unless specifically instructed otherwise (by using the 'dtype' argument). However, not all columns containing digits are numeric; zip codes, for example, are not numeric._\n",
    "\n",
    "_So, we want another approach._\n",
    "\n",
    "_I'll use basic file read-write. Since each row of a CSV file ends with a linefeed, we can simply iterate through the file. It's incredibly fast, even with massive files._"
   ]
  },
  {
   "cell_type": "markdown",
   "id": "ce0d9f6a-976d-4492-a6dd-f9d820b0822e",
   "metadata": {},
   "source": [
    "_Here's the code using a standard `for` loop._\n",
    "```python\n",
    "with open( s_datapath + '\\\\' + s_csvsource, 'r' ) as csvreadhandle:\n",
    "    s = ''\n",
    "    for i in range( 25 ):\n",
    "        s = s + next( csvreadhandle )\n",
    "\n",
    "    with open( s_datapath + '\\\\' + s_csvtarget, 'w' ) as csvwritehandle:\n",
    "         csvwritehandle.write( s )\n",
    "```\n",
    "\n",
    "_However, I chose to use a listcomp since many would deem it more 'pythonic'._"
   ]
  },
  {
   "cell_type": "code",
   "execution_count": null,
   "id": "beb61879-9044-4467-a56e-b3e6c3048649",
   "metadata": {},
   "outputs": [],
   "source": [
    "s = ''\n",
    "\n",
    "with open( s_datapath + '\\\\' + s_csvsource, 'r' ) as csvreadhandle:\n",
    "    s = [ s + next( csvreadhandle ) for i in range( 200 ) ]\n",
    "\n",
    "    # If we want to create the string variable and inspect it, we can.\n",
    "    # s = ''.join( s )\n",
    "\n",
    "    with open( s_datapath + '\\\\' + s_csvtarget, 'w' ) as csvwritehandle:\n",
    "         csvwritehandle.write( ''.join( s ) )\n",
    "\n",
    "# I'm clearing out the variable s, in case I re-run portions of the above.\n",
    "del s"
   ]
  }
 ],
 "metadata": {
  "kernelspec": {
   "display_name": "Python 3 (ipykernel)",
   "language": "python",
   "name": "python3"
  },
  "language_info": {
   "codemirror_mode": {
    "name": "ipython",
    "version": 3
   },
   "file_extension": ".py",
   "mimetype": "text/x-python",
   "name": "python",
   "nbconvert_exporter": "python",
   "pygments_lexer": "ipython3",
   "version": "3.9.13"
  }
 },
 "nbformat": 4,
 "nbformat_minor": 5
}
